{
 "cells": [
  {
   "cell_type": "markdown",
   "metadata": {},
   "source": [
    "# Annotate relative radial distance from nuclear center\n",
    "\n",
    "For each read in the PGP1 dataset, find its normalized radial distance from the nuclear center."
   ]
  },
  {
   "cell_type": "code",
   "execution_count": 1,
   "metadata": {},
   "outputs": [],
   "source": [
    "import importlib\n",
    "import os, sys, warnings\n",
    "import numpy as np\n",
    "import pandas as pd\n",
    "\n",
    "sys.path.append(os.path.abspath(os.path.join(r\"..\", r\".\")))\n",
    "\n",
    "from source import const\n",
    "from source import radial as rd"
   ]
  },
  {
   "cell_type": "code",
   "execution_count": 2,
   "metadata": {},
   "outputs": [],
   "source": [
    "pgp_file = \"../data/Table_S1_pgp1_data_table.csv\"\n",
    "pgp_data = pd.read_csv(pgp_file,index_col=False)\n",
    "\n",
    "#Retreive the single cells\n",
    "cells = []\n",
    "cell_indices = pgp_data[\"cell_id\"].unique()\n",
    "for cell_index in cell_indices:\n",
    "    cells.append(pgp_data.loc[pgp_data[\"cell_id\"] == cell_index])"
   ]
  },
  {
   "cell_type": "code",
   "execution_count": 3,
   "metadata": {},
   "outputs": [],
   "source": [
    "KEYS = const.get_genome_keys('hg38')\n",
    "\n",
    "dim = 3\n",
    "\n",
    "#center cells at origin\n",
    "centered_cells = []\n",
    "for cell in cells:\n",
    "    hull = rd.get_hull(cell, dim=dim)\n",
    "    origin = rd.get_hull_center(hull, dim=dim)\n",
    "    centered_cell = rd.center_cell(cell, origin, dim=dim)\n",
    "    centered_cells.append(centered_cell)\n",
    "\n",
    "annotated_data = pgp_data.copy() #annotate this\n",
    "\n",
    "dims = [2,3] #get relative radial distance in 2 and 3-D\n",
    "\n",
    "for dim in dims:\n",
    "    for cell in centered_cells:\n",
    "        hull = rd.get_hull(cell,dim=dim)\n",
    "\n",
    "        #find relative radial dist for each point in cell\n",
    "        for index, row in cell.iterrows(): \n",
    "\n",
    "            #Get spatial position vectors for each read\n",
    "            R = []\n",
    "            for i in range(dim):\n",
    "                R.append(row[KEYS['dim'][i]])\n",
    "            R = np.array(R)\n",
    "\n",
    "            r_rel = rd.get_r_rel(hull, R) \n",
    "            key = 'norm_r_' +str(dim) + \"D\"\n",
    "            annotated_data.at[index, key] = r_rel\n",
    "\n",
    "annotated_data.to_csv(\"../data/Table_S1_pgp1_data_table.csv\",index=False)"
   ]
  }
 ],
 "metadata": {
  "kernelspec": {
   "display_name": "Python 3",
   "language": "python",
   "name": "python3"
  },
  "language_info": {
   "codemirror_mode": {
    "name": "ipython",
    "version": 3
   },
   "file_extension": ".py",
   "mimetype": "text/x-python",
   "name": "python",
   "nbconvert_exporter": "python",
   "pygments_lexer": "ipython3",
   "version": "3.6.10"
  }
 },
 "nbformat": 4,
 "nbformat_minor": 4
}
